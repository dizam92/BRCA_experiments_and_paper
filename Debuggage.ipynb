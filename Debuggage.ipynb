{
 "cells": [
  {
   "cell_type": "code",
   "execution_count": 3,
   "metadata": {},
   "outputs": [],
   "source": [
    "# -*- coding: utf-8 -*-\n",
    "__author__ = 'maoss2'\n",
    "import random\n",
    "import h5py\n",
    "import re\n",
    "import os\n",
    "import seaborn as sns\n",
    "import pandas as pd\n",
    "import numpy as np\n",
    "\n",
    "from glob import glob\n",
    "from copy import deepcopy\n",
    "\n",
    "# ******************************************** Global Values Section ***************************************************\n",
    "project_path_on_is2 = '/is2/projects/JC_Cancers/TCGA_raw/'\n",
    "ids_pattern = re.compile(r'(TCGA-\\w+-\\w+)', re.U | re.M | re.I)\n",
    "\n",
    "label_file_triple_all = \"/Users/maoss2/PycharmProjects/BRCA_experiments_and_paper/datasets/datasets_repository/labels_for_triple_negatives_all.tsv\"\n",
    "new_label_file = '/Users/maoss2/PycharmProjects/BRCA_experiments_and_paper/datasets/datasets_repository/clinical_views_labels_and_proba_copie.csv'\n",
    "\n",
    "methyl_450_file = \"/Users/maoss2/PycharmProjects/BRCA_experiments_and_paper/datasets/datasets_repository/methylome_450.tsv\"\n",
    "methyl_27_file = \"/Users/maoss2/PycharmProjects/BRCA_experiments_and_paper/datasets/datasets_repository/methylome_27.tsv\"\n",
    "rnaseq_genes_file = \"/Users/maoss2/PycharmProjects/BRCA_experiments_and_paper/datasets/datasets_repository/rnaseq_genes.tsv\"\n",
    "rnaseq_isoforms_file = \"/Users/maoss2/PycharmProjects/BRCA_experiments_and_paper/datasets/datasets_repository/rnaseq_isoforms.tsv\"\n",
    "snp_file = \"/Users/maoss2/PycharmProjects/BRCA_experiments_and_paper/datasets/datasets_repository/snp.tsv\"\n",
    "mirna_file = \"/Users/maoss2/PycharmProjects/BRCA_experiments_and_paper/datasets/datasets_repository/mirna.tsv\"\n",
    "new_clinical_file = '/Users/maoss2/PycharmProjects/BRCA_experiments_and_paper/datasets/datasets_repository/new_clinical_view_copie.tsv'\n",
    "old_clinical_file = '/Users/maoss2/PycharmProjects/BRCA_experiments_and_paper/datasets/datasets_repository/clinical_view.tsv'\n",
    "# **********************************************************************************************************************\n",
    "\n",
    "\n",
    "\n",
    "labels = pd.read_csv(new_label_file,sep=',', index_col=\"bcr_patient_barcode\")\n",
    "\n",
    "y_labels = labels['phenotype_TN']\n",
    "index_pos = labels.loc[labels['phenotype_TN'] == 1].index.values\n",
    "index_neg = labels.loc[labels['phenotype_TN'] == -1].index.values\n",
    "name = 'BRCA_triple_neg_new_labels_unbalanced_mean.h5'"
   ]
  },
  {
   "cell_type": "code",
   "execution_count": 4,
   "metadata": {},
   "outputs": [
    {
     "name": "stderr",
     "output_type": "stream",
     "text": [
      "/Users/maoss2/anaconda3/lib/python3.6/site-packages/pandas/core/generic.py:2530: PerformanceWarning: \n",
      "your performance may suffer as PyTables will pickle object types that it cannot\n",
      "map directly to c-types [inferred_type->mixed-integer,key->values] [items->None]\n",
      "\n",
      "  pytables.to_hdf(path_or_buf, key, self, **kwargs)\n"
     ]
    }
   ],
   "source": [
    "labels.replace(['LA', 'LB', 'HER2++', 'TN'], [1, 2, 3, 4],\n",
    "               inplace=True)  # IMPORTANT POUR DECODER LEUR SIGNIFICATION\n",
    "labels.replace(['NON TN', 'BASAL NON TN'], [1, 2],\n",
    "               inplace=True)  # IMPORTANT POUR DECODER LEUR SIGNIFICATION\n",
    "labels_phenotype_normal = labels['phenotype']\n",
    "labels_phenotype_diablo = labels['phenotype_DIABLO']\n",
    "labels_phenotype_diablo_TN_and_basal = labels['phenotype_DIABLO_TN_AND_BASAL']\n",
    "er_positive_probability = labels['er_status_ihc_Percent_Positive']\n",
    "pr_positive_probability = labels['pr_status_ihc_percent_Positive']\n",
    "her_positive_probability = labels['her2_ihc_percent_Positive']\n",
    "# Save to file\n",
    "y_labels.to_hdf(name, \"labels\")\n",
    "labels_phenotype_normal.to_hdf(name, 'label_normal_phenotype')\n",
    "labels_phenotype_diablo.to_hdf(name, 'label_diablo_phenotype')\n",
    "labels_phenotype_diablo_TN_and_basal.to_hdf(name, 'label_diablo_TN_and_basal_phenotype')\n",
    "er_positive_probability.to_hdf(name, 'er_positive_probability')\n",
    "pr_positive_probability.to_hdf(name, 'pr_positive_probability')\n",
    "her_positive_probability.to_hdf(name, 'her_positive_probability')"
   ]
  },
  {
   "cell_type": "code",
   "execution_count": 5,
   "metadata": {},
   "outputs": [
    {
     "name": "stderr",
     "output_type": "stream",
     "text": [
      "/Users/maoss2/anaconda3/lib/python3.6/site-packages/ipykernel_launcher.py:19: FutureWarning: \n",
      "Passing list-likes to .loc or [] with any missing label will raise\n",
      "KeyError in the future, you can use .reindex() as an alternative.\n",
      "\n",
      "See the documentation here:\n",
      "https://pandas.pydata.org/pandas-docs/stable/user_guide/indexing.html#deprecate-loc-reindex-listlike\n"
     ]
    }
   ],
   "source": [
    "methylation_27 = pd.read_csv(methyl_27_file, sep=\"\\t\")\n",
    "methylation_27.dropna(axis=0, inplace=True)  # delete the nan feature\n",
    "indexes = np.array(list(map(str, np.array(methylation_27[\"Unnamed: 0\"]))))\n",
    "methylation_27.set_index(indexes, inplace=True)\n",
    "\n",
    "methylation_450 = pd.read_csv(methyl_450_file, sep=\"\\t\")\n",
    "methylation_450.dropna(axis=0, inplace=True)  # delete the nan feature\n",
    "indexes = np.array(list(map(str, np.array(methylation_450[\"Unnamed: 0\"]))))\n",
    "methylation_450.set_index(indexes, inplace=True)\n",
    "\n",
    "indexes_fusion = [el for el in methylation_27.index.values if el in methylation_450.index.values]\n",
    "methylation_fusion_27 = methylation_27.loc[indexes_fusion]\n",
    "methylation_fusion_450 = methylation_450.loc[indexes_fusion]\n",
    "methylation_fusion_27.drop(['Unnamed: 0'], axis=1, inplace=True)\n",
    "methylation_fusion_450.drop(['Unnamed: 0'], axis=1, inplace=True)\n",
    "methylation_fusion = pd.concat([methylation_fusion_27, methylation_fusion_450], axis=1)\n",
    "methylation_fusion = methylation_fusion.T\n",
    "methylation_fusion.to_csv('methylation_fusion.tsv', sep=\"\\t\", encoding='utf-8')\n",
    "methylation_fusion = methylation_fusion.loc[labels.index.values]\n",
    "methylation_fusion = methylation_fusion.apply(pd.to_numeric, errors='coerce')\n"
   ]
  },
  {
   "cell_type": "code",
   "execution_count": 33,
   "metadata": {},
   "outputs": [],
   "source": [
    "rnaseq_genes = pd.read_csv(rnaseq_genes_file, sep=\"\\t\")\n",
    "liste = []\n",
    "for idx, el in enumerate(rnaseq_genes['Unnamed: 0']):\n",
    "    if el.split('|')[0] == '?':\n",
    "        liste.append(idx)\n",
    "rnaseq_genes.drop(axis=0, index=liste, inplace=True)\n",
    "indexes = np.array(list(map(str, np.array(rnaseq_genes[\"Unnamed: 0\"]))))\n",
    "rnaseq_genes.set_index(indexes, inplace=True)\n",
    "rnaseq_genes.drop(['Unnamed: 0'], axis=1, inplace=True)\n",
    "# rnaseq_genes = rnaseq_genes.T.loc[labels.index.values]\n",
    "# rnaseq_genes = rnaseq_genes.loc[:, rnaseq_genes.count() > 0]\n"
   ]
  },
  {
   "cell_type": "code",
   "execution_count": 34,
   "metadata": {},
   "outputs": [],
   "source": [
    "rnaseq_isoforms = pd.read_csv(rnaseq_isoforms_file, sep=\"\\t\")\n",
    "indexes = np.array(list(map(str, np.array(rnaseq_isoforms[\"Unnamed: 0\"]))))\n",
    "rnaseq_isoforms.set_index(indexes, inplace=True)\n",
    "rnaseq_isoforms.drop(['Unnamed: 0'], axis=1, inplace=True)\n",
    "# rnaseq_isoforms = rnaseq_isoforms.T.loc[labels.index.values]\n",
    "# rnaseq_isoforms = rnaseq_isoforms.loc[:, rnaseq_isoforms.count() > 0]\n"
   ]
  },
  {
   "cell_type": "code",
   "execution_count": 27,
   "metadata": {},
   "outputs": [],
   "source": [
    "snps = pd.read_csv(snp_file, sep=\"\\t\")\n",
    "indexes = np.array(list(map(str, np.array(snps[\"Unnamed: 0\"]))))\n",
    "snps.set_index(indexes, inplace=True)\n",
    "# snps = snps.T.loc[labels.index.values]\n",
    "# snps = snps.loc[:, snps.count() > 0]\n",
    "# snps = snps.apply(pd.to_numeric, errors='coerce')\n"
   ]
  },
  {
   "cell_type": "code",
   "execution_count": 35,
   "metadata": {},
   "outputs": [],
   "source": [
    "mirnas = pd.read_csv(mirna_file, sep=\"\\t\")\n",
    "indexes = np.array(list(map(str, np.array(mirnas[\"Unnamed: 0\"]))))\n",
    "mirnas.set_index(indexes, inplace=True)\n",
    "mirnas.drop(['Unnamed: 0'], axis=1, inplace=True)\n",
    "# mirnas = mirnas.T.loc[labels.index.values]\n",
    "# mirnas = mirnas.loc[:, mirnas.count() > 0]\n"
   ]
  },
  {
   "cell_type": "code",
   "execution_count": 11,
   "metadata": {},
   "outputs": [],
   "source": [
    "clinical_data = pd.read_csv(new_clinical_file, sep='\\t')\n",
    "indexes = np.array(list(map(str, clinical_data['bcr_patient_barcode'].values)))\n",
    "clinical_data.set_index(indexes, inplace=True)\n",
    "clinical_data.drop(['Unnamed: 0', 'bcr_patient_barcode'], axis=1, inplace=True)\n",
    "clinical_data = clinical_data.loc[labels.index.values]\n",
    "clinical_data = clinical_data.apply(pd.to_numeric, errors='coerce')\n"
   ]
  },
  {
   "cell_type": "code",
   "execution_count": 12,
   "metadata": {},
   "outputs": [],
   "source": [
    "# Check the examples\n",
    "assert np.all(labels.index.values == rnaseq_isoforms.index.values)\n",
    "assert np.all(labels.index.values == rnaseq_genes.index.values)\n",
    "assert np.all(labels.index.values == snps.index.values)\n",
    "assert np.all(labels.index.values == mirnas.index.values)\n",
    "assert np.all(labels.index.values == clinical_data.index.values)"
   ]
  },
  {
   "cell_type": "code",
   "execution_count": 14,
   "metadata": {},
   "outputs": [
    {
     "data": {
      "text/plain": [
       "(array([316, 316, 316, ..., 837, 837, 837]),\n",
       " array([    0,     1,     2, ..., 19981, 19982, 19983]))"
      ]
     },
     "execution_count": 14,
     "metadata": {},
     "output_type": "execute_result"
    }
   ],
   "source": [
    "np.where(np.isnan(methylation_fusion) == True)"
   ]
  },
  {
   "cell_type": "code",
   "execution_count": 15,
   "metadata": {},
   "outputs": [],
   "source": [
    "temp_concat = pd.concat([methylation_fusion_27, methylation_fusion_450], axis=1)"
   ]
  },
  {
   "cell_type": "code",
   "execution_count": 16,
   "metadata": {},
   "outputs": [
    {
     "data": {
      "text/plain": [
       "(array([], dtype=int64), array([], dtype=int64))"
      ]
     },
     "execution_count": 16,
     "metadata": {},
     "output_type": "execute_result"
    }
   ],
   "source": [
    "np.where(np.isnan(temp_concat) == True)"
   ]
  },
  {
   "cell_type": "code",
   "execution_count": 19,
   "metadata": {},
   "outputs": [
    {
     "data": {
      "text/plain": [
       "Index(['TCGA-A2-A0CX', 'TCGA-A2-A0D0', 'TCGA-A2-A0D4', 'TCGA-A7-A0CD',\n",
       "       'TCGA-A7-A0CE', 'TCGA-A7-A0CG', 'TCGA-A7-A0CH', 'TCGA-A7-A0CJ',\n",
       "       'TCGA-A7-A0DB', 'TCGA-A7-A0DC',\n",
       "       ...\n",
       "       'TCGA-BH-A1EW', 'TCGA-BH-A1F0', 'TCGA-C8-A1HF', 'TCGA-C8-A1HG',\n",
       "       'TCGA-C8-A1HI', 'TCGA-C8-A1HL', 'TCGA-C8-A1HM', 'TCGA-C8-A1HN',\n",
       "       'TCGA-E2-A14N', 'TCGA-E2-A15I'],\n",
       "      dtype='object', length=1087)"
      ]
     },
     "execution_count": 19,
     "metadata": {},
     "output_type": "execute_result"
    }
   ],
   "source": [
    "temp_concat.columns"
   ]
  },
  {
   "cell_type": "code",
   "execution_count": 20,
   "metadata": {},
   "outputs": [
    {
     "data": {
      "text/plain": [
       "array(['TCGA-3C-AAAU', 'TCGA-3C-AALI', 'TCGA-3C-AALJ', 'TCGA-3C-AALK',\n",
       "       'TCGA-4H-AAAK', 'TCGA-5L-AAT0', 'TCGA-5L-AAT1', 'TCGA-5T-A9QA',\n",
       "       'TCGA-A1-A0SB', 'TCGA-A1-A0SD', 'TCGA-A1-A0SE', 'TCGA-A1-A0SF',\n",
       "       'TCGA-A1-A0SG', 'TCGA-A1-A0SH', 'TCGA-A1-A0SI', 'TCGA-A1-A0SJ',\n",
       "       'TCGA-A1-A0SK', 'TCGA-A1-A0SM', 'TCGA-A1-A0SN', 'TCGA-A1-A0SO',\n",
       "       'TCGA-A1-A0SP', 'TCGA-A1-A0SQ', 'TCGA-A2-A04N', 'TCGA-A2-A04P',\n",
       "       'TCGA-A2-A04Q', 'TCGA-A2-A04R', 'TCGA-A2-A04T', 'TCGA-A2-A04U',\n",
       "       'TCGA-A2-A04V', 'TCGA-A2-A04W', 'TCGA-A2-A04X', 'TCGA-A2-A04Y',\n",
       "       'TCGA-A2-A0CK', 'TCGA-A2-A0CL', 'TCGA-A2-A0CM', 'TCGA-A2-A0CO',\n",
       "       'TCGA-A2-A0CP', 'TCGA-A2-A0CQ', 'TCGA-A2-A0CR', 'TCGA-A2-A0CS',\n",
       "       'TCGA-A2-A0CT', 'TCGA-A2-A0CU', 'TCGA-A2-A0CV', 'TCGA-A2-A0CW',\n",
       "       'TCGA-A2-A0CX', 'TCGA-A2-A0CY', 'TCGA-A2-A0CZ', 'TCGA-A2-A0D0',\n",
       "       'TCGA-A2-A0D1', 'TCGA-A2-A0D2', 'TCGA-A2-A0D3', 'TCGA-A2-A0D4',\n",
       "       'TCGA-A2-A0EM', 'TCGA-A2-A0EN', 'TCGA-A2-A0EO', 'TCGA-A2-A0EP',\n",
       "       'TCGA-A2-A0ER', 'TCGA-A2-A0ES', 'TCGA-A2-A0ET', 'TCGA-A2-A0EU',\n",
       "       'TCGA-A2-A0EV', 'TCGA-A2-A0EW', 'TCGA-A2-A0EX', 'TCGA-A2-A0EY',\n",
       "       'TCGA-A2-A0ST', 'TCGA-A2-A0SU', 'TCGA-A2-A0SV', 'TCGA-A2-A0SW',\n",
       "       'TCGA-A2-A0SX', 'TCGA-A2-A0SY', 'TCGA-A2-A0T0', 'TCGA-A2-A0T1',\n",
       "       'TCGA-A2-A0T2', 'TCGA-A2-A0T3', 'TCGA-A2-A0T4', 'TCGA-A2-A0T5',\n",
       "       'TCGA-A2-A0T6', 'TCGA-A2-A0T7', 'TCGA-A2-A0YC', 'TCGA-A2-A0YD',\n",
       "       'TCGA-A2-A0YE', 'TCGA-A2-A0YF', 'TCGA-A2-A0YG', 'TCGA-A2-A0YH',\n",
       "       'TCGA-A2-A0YI', 'TCGA-A2-A0YJ', 'TCGA-A2-A0YK', 'TCGA-A2-A0YL',\n",
       "       'TCGA-A2-A0YM', 'TCGA-A2-A0YT', 'TCGA-A2-A1FV', 'TCGA-A2-A1FW',\n",
       "       'TCGA-A2-A1FX', 'TCGA-A2-A1FZ', 'TCGA-A2-A1G0', 'TCGA-A2-A1G1',\n",
       "       'TCGA-A2-A1G4', 'TCGA-A2-A1G6', 'TCGA-A2-A259', 'TCGA-A2-A25A',\n",
       "       'TCGA-A2-A25B', 'TCGA-A2-A25C', 'TCGA-A2-A25D', 'TCGA-A2-A25E',\n",
       "       'TCGA-A2-A3KC', 'TCGA-A2-A3KD', 'TCGA-A2-A3XS', 'TCGA-A2-A3XT',\n",
       "       'TCGA-A2-A3XU', 'TCGA-A2-A3XV', 'TCGA-A2-A3XW', 'TCGA-A2-A3XX',\n",
       "       'TCGA-A2-A3XY', 'TCGA-A2-A3XZ', 'TCGA-A2-A4RW', 'TCGA-A2-A4RY',\n",
       "       'TCGA-A2-A4S0', 'TCGA-A2-A4S2', 'TCGA-A2-A4S3', 'TCGA-A7-A0CD',\n",
       "       'TCGA-A7-A0CE', 'TCGA-A7-A0CG', 'TCGA-A7-A0CJ', 'TCGA-A7-A0D9',\n",
       "       'TCGA-A7-A0DA', 'TCGA-A7-A0DB', 'TCGA-A7-A0DC', 'TCGA-A7-A13F',\n",
       "       'TCGA-A7-A13G', 'TCGA-A7-A13H', 'TCGA-A7-A26E', 'TCGA-A7-A26F',\n",
       "       'TCGA-A7-A26G', 'TCGA-A7-A26H', 'TCGA-A7-A26I', 'TCGA-A7-A26J',\n",
       "       'TCGA-A7-A2KD', 'TCGA-A7-A3IY', 'TCGA-A7-A3IZ', 'TCGA-A7-A3J0',\n",
       "       'TCGA-A7-A3J1', 'TCGA-A7-A3RF', 'TCGA-A7-A425', 'TCGA-A7-A426',\n",
       "       'TCGA-A7-A4SA', 'TCGA-A7-A4SB', 'TCGA-A7-A4SC', 'TCGA-A7-A4SD',\n",
       "       'TCGA-A7-A4SE', 'TCGA-A7-A4SF', 'TCGA-A7-A56D', 'TCGA-A7-A5ZV',\n",
       "       'TCGA-A7-A5ZW', 'TCGA-A7-A5ZX', 'TCGA-A7-A6VV', 'TCGA-A7-A6VW',\n",
       "       'TCGA-A7-A6VX', 'TCGA-A7-A6VY', 'TCGA-A8-A06N', 'TCGA-A8-A06O',\n",
       "       'TCGA-A8-A06P', 'TCGA-A8-A06Q', 'TCGA-A8-A06R', 'TCGA-A8-A06T',\n",
       "       'TCGA-A8-A06U', 'TCGA-A8-A06X', 'TCGA-A8-A06Y', 'TCGA-A8-A06Z',\n",
       "       'TCGA-A8-A075', 'TCGA-A8-A076', 'TCGA-A8-A079', 'TCGA-A8-A07B',\n",
       "       'TCGA-A8-A07C', 'TCGA-A8-A07E', 'TCGA-A8-A07F', 'TCGA-A8-A07G',\n",
       "       'TCGA-A8-A07I', 'TCGA-A8-A07J', 'TCGA-A8-A07L', 'TCGA-A8-A07O',\n",
       "       'TCGA-A8-A07P', 'TCGA-A8-A07S', 'TCGA-A8-A07W', 'TCGA-A8-A07Z',\n",
       "       'TCGA-A8-A081', 'TCGA-A8-A082', 'TCGA-A8-A083', 'TCGA-A8-A084',\n",
       "       'TCGA-A8-A085', 'TCGA-A8-A086', 'TCGA-A8-A08A', 'TCGA-A8-A08B',\n",
       "       'TCGA-A8-A08C', 'TCGA-A8-A08F', 'TCGA-A8-A08G', 'TCGA-A8-A08H',\n",
       "       'TCGA-A8-A08I', 'TCGA-A8-A08J', 'TCGA-A8-A08L', 'TCGA-A8-A08O',\n",
       "       'TCGA-A8-A08P', 'TCGA-A8-A08R', 'TCGA-A8-A08S', 'TCGA-A8-A08T',\n",
       "       'TCGA-A8-A08X', 'TCGA-A8-A08Z', 'TCGA-A8-A090', 'TCGA-A8-A091',\n",
       "       'TCGA-A8-A092', 'TCGA-A8-A093', 'TCGA-A8-A094', 'TCGA-A8-A095',\n",
       "       'TCGA-A8-A096', 'TCGA-A8-A097', 'TCGA-A8-A099', 'TCGA-A8-A09A',\n",
       "       'TCGA-A8-A09B', 'TCGA-A8-A09C', 'TCGA-A8-A09D', 'TCGA-A8-A09E',\n",
       "       'TCGA-A8-A09G', 'TCGA-A8-A09I', 'TCGA-A8-A09K', 'TCGA-A8-A09M',\n",
       "       'TCGA-A8-A09N', 'TCGA-A8-A09Q', 'TCGA-A8-A09R', 'TCGA-A8-A09T',\n",
       "       'TCGA-A8-A09V', 'TCGA-A8-A09W', 'TCGA-A8-A09Z', 'TCGA-A8-A0A1',\n",
       "       'TCGA-A8-A0A2', 'TCGA-A8-A0A4', 'TCGA-A8-A0A6', 'TCGA-A8-A0A7',\n",
       "       'TCGA-A8-A0A9', 'TCGA-A8-A0AB', 'TCGA-A8-A0AD', 'TCGA-AC-A23C',\n",
       "       'TCGA-AC-A23G', 'TCGA-AC-A23H', 'TCGA-AC-A2B8', 'TCGA-AC-A2BK',\n",
       "       'TCGA-AC-A2BM', 'TCGA-AC-A2FB', 'TCGA-AC-A2FF', 'TCGA-AC-A2FG',\n",
       "       'TCGA-AC-A2FK', 'TCGA-AC-A2FO', 'TCGA-AC-A2QH', 'TCGA-AC-A2QI',\n",
       "       'TCGA-AC-A2QJ', 'TCGA-AC-A3BB', 'TCGA-AC-A3EH', 'TCGA-AC-A3HN',\n",
       "       'TCGA-AC-A3OD', 'TCGA-AC-A3QP', 'TCGA-AC-A3QQ', 'TCGA-AC-A3TM',\n",
       "       'TCGA-AC-A3TN', 'TCGA-AC-A3W5', 'TCGA-AC-A3W6', 'TCGA-AC-A3W7',\n",
       "       'TCGA-AC-A3YI', 'TCGA-AC-A4ZE', 'TCGA-AC-A5EH', 'TCGA-AC-A5EI',\n",
       "       'TCGA-AC-A5XS', 'TCGA-AC-A5XU', 'TCGA-AC-A62Y', 'TCGA-AC-A6IV',\n",
       "       'TCGA-AC-A6IW', 'TCGA-AC-A6NO', 'TCGA-AC-A7VC', 'TCGA-AC-A8OP',\n",
       "       'TCGA-AC-A8OQ', 'TCGA-AC-A8OR', 'TCGA-AC-A8OS', 'TCGA-AN-A03X',\n",
       "       'TCGA-AN-A03Y', 'TCGA-AN-A041', 'TCGA-AN-A046', 'TCGA-AN-A049',\n",
       "       'TCGA-AN-A04A', 'TCGA-AN-A04C', 'TCGA-AN-A04D', 'TCGA-AN-A0AJ',\n",
       "       'TCGA-AN-A0AK', 'TCGA-AN-A0AL', 'TCGA-AN-A0AM', 'TCGA-AN-A0AR',\n",
       "       'TCGA-AN-A0AS', 'TCGA-AN-A0AT', 'TCGA-AN-A0FD', 'TCGA-AN-A0FF',\n",
       "       'TCGA-AN-A0FK', 'TCGA-AN-A0FN', 'TCGA-AN-A0FS', 'TCGA-AN-A0FT',\n",
       "       'TCGA-AN-A0FV', 'TCGA-AN-A0FW', 'TCGA-AN-A0FY', 'TCGA-AN-A0FZ',\n",
       "       'TCGA-AN-A0G0', 'TCGA-AN-A0XL', 'TCGA-AN-A0XN', 'TCGA-AN-A0XO',\n",
       "       'TCGA-AN-A0XP', 'TCGA-AN-A0XR', 'TCGA-AN-A0XS', 'TCGA-AN-A0XT',\n",
       "       'TCGA-AN-A0XU', 'TCGA-AN-A0XV', 'TCGA-AN-A0XW', 'TCGA-AO-A03L',\n",
       "       'TCGA-AO-A03M', 'TCGA-AO-A03N', 'TCGA-AO-A03O', 'TCGA-AO-A03P',\n",
       "       'TCGA-AO-A03R', 'TCGA-AO-A03T', 'TCGA-AO-A03U', 'TCGA-AO-A03V',\n",
       "       'TCGA-AO-A0J3', 'TCGA-AO-A0J4', 'TCGA-AO-A0J5', 'TCGA-AO-A0J6',\n",
       "       'TCGA-AO-A0J7', 'TCGA-AO-A0J8', 'TCGA-AO-A0J9', 'TCGA-AO-A0JA',\n",
       "       'TCGA-AO-A0JB', 'TCGA-AO-A0JC', 'TCGA-AO-A0JD', 'TCGA-AO-A0JE',\n",
       "       'TCGA-AO-A0JF', 'TCGA-AO-A0JG', 'TCGA-AO-A0JI', 'TCGA-AO-A0JJ',\n",
       "       'TCGA-AO-A0JL', 'TCGA-AO-A0JM', 'TCGA-AO-A124', 'TCGA-AO-A125',\n",
       "       'TCGA-AO-A126', 'TCGA-AO-A128', 'TCGA-AO-A129', 'TCGA-AO-A12A',\n",
       "       'TCGA-AO-A12B', 'TCGA-AO-A12C', 'TCGA-AO-A12D', 'TCGA-AO-A12E',\n",
       "       'TCGA-AO-A12F', 'TCGA-AO-A12G', 'TCGA-AO-A12H', 'TCGA-AO-A1KO',\n",
       "       'TCGA-AO-A1KP', 'TCGA-AO-A1KQ', 'TCGA-AO-A1KR', 'TCGA-AO-A1KS',\n",
       "       'TCGA-AO-A1KT', 'TCGA-AQ-A04H', 'TCGA-AQ-A04J', 'TCGA-AQ-A04L',\n",
       "       'TCGA-AQ-A0Y5', 'TCGA-AQ-A1H2', 'TCGA-AQ-A1H3', 'TCGA-AQ-A54N',\n",
       "       'TCGA-AQ-A54O', 'TCGA-AQ-A7U7', 'TCGA-AR-A0TQ', 'TCGA-AR-A0TR',\n",
       "       'TCGA-AR-A0TS', 'TCGA-AR-A0TT', 'TCGA-AR-A0TU', 'TCGA-AR-A0TV',\n",
       "       'TCGA-AR-A0TW', 'TCGA-AR-A0TX', 'TCGA-AR-A0TY', 'TCGA-AR-A0TZ',\n",
       "       'TCGA-AR-A0U1', 'TCGA-AR-A0U2', 'TCGA-AR-A0U3', 'TCGA-AR-A0U4',\n",
       "       'TCGA-AR-A1AI', 'TCGA-AR-A1AK', 'TCGA-AR-A1AL', 'TCGA-AR-A1AM',\n",
       "       'TCGA-AR-A1AN', 'TCGA-AR-A1AO', 'TCGA-AR-A1AP', 'TCGA-AR-A1AQ',\n",
       "       'TCGA-AR-A1AR', 'TCGA-AR-A1AS', 'TCGA-AR-A1AT', 'TCGA-AR-A1AU',\n",
       "       'TCGA-AR-A1AV', 'TCGA-AR-A1AW', 'TCGA-AR-A1AX', 'TCGA-AR-A1AY',\n",
       "       'TCGA-AR-A24H', 'TCGA-AR-A24K', 'TCGA-AR-A24L', 'TCGA-AR-A24M',\n",
       "       'TCGA-AR-A24N', 'TCGA-AR-A24O', 'TCGA-AR-A24P', 'TCGA-AR-A24R',\n",
       "       'TCGA-AR-A24S', 'TCGA-AR-A24T', 'TCGA-AR-A24U', 'TCGA-AR-A24V',\n",
       "       'TCGA-AR-A24W', 'TCGA-AR-A24X', 'TCGA-AR-A24Z', 'TCGA-AR-A250',\n",
       "       'TCGA-AR-A252', 'TCGA-AR-A254', 'TCGA-AR-A255', 'TCGA-AR-A256',\n",
       "       'TCGA-AR-A2LH', 'TCGA-AR-A2LJ', 'TCGA-AR-A2LK', 'TCGA-AR-A2LL',\n",
       "       'TCGA-AR-A2LM', 'TCGA-AR-A2LN', 'TCGA-AR-A2LO', 'TCGA-AR-A2LQ',\n",
       "       'TCGA-AR-A2LR', 'TCGA-AR-A5QM', 'TCGA-AR-A5QN', 'TCGA-AR-A5QP',\n",
       "       'TCGA-AR-A5QQ', 'TCGA-B6-A1KC', 'TCGA-B6-A1KF', 'TCGA-B6-A1KI',\n",
       "       'TCGA-B6-A3ZX', 'TCGA-B6-A400', 'TCGA-B6-A401', 'TCGA-B6-A402',\n",
       "       'TCGA-B6-A408', 'TCGA-B6-A409', 'TCGA-B6-A40B', 'TCGA-B6-A40C',\n",
       "       'TCGA-BH-A0AU', 'TCGA-BH-A0AV', 'TCGA-BH-A0AW', 'TCGA-BH-A0AY',\n",
       "       'TCGA-BH-A0AZ', 'TCGA-BH-A0B0', 'TCGA-BH-A0B1', 'TCGA-BH-A0B2',\n",
       "       'TCGA-BH-A0B3', 'TCGA-BH-A0B4', 'TCGA-BH-A0B5', 'TCGA-BH-A0B6',\n",
       "       'TCGA-BH-A0B7', 'TCGA-BH-A0B8', 'TCGA-BH-A0B9', 'TCGA-BH-A0BA',\n",
       "       'TCGA-BH-A0BC', 'TCGA-BH-A0BD', 'TCGA-BH-A0BF', 'TCGA-BH-A0BG',\n",
       "       'TCGA-BH-A0BJ', 'TCGA-BH-A0BL', 'TCGA-BH-A0BM', 'TCGA-BH-A0BO',\n",
       "       'TCGA-BH-A0BP', 'TCGA-BH-A0BQ', 'TCGA-BH-A0BR', 'TCGA-BH-A0BS',\n",
       "       'TCGA-BH-A0BT', 'TCGA-BH-A0BV', 'TCGA-BH-A0BW', 'TCGA-BH-A0BZ',\n",
       "       'TCGA-BH-A0C0', 'TCGA-BH-A0C1', 'TCGA-BH-A0C3', 'TCGA-BH-A0C7',\n",
       "       'TCGA-BH-A0DD', 'TCGA-BH-A0DE', 'TCGA-BH-A0DG', 'TCGA-BH-A0DH',\n",
       "       'TCGA-BH-A0DI', 'TCGA-BH-A0DK', 'TCGA-BH-A0DO', 'TCGA-BH-A0DP',\n",
       "       'TCGA-BH-A0DQ', 'TCGA-BH-A0DS', 'TCGA-BH-A0DT', 'TCGA-BH-A0DV',\n",
       "       'TCGA-BH-A0DX', 'TCGA-BH-A0DZ', 'TCGA-BH-A0E0', 'TCGA-BH-A0E1',\n",
       "       'TCGA-BH-A0E2', 'TCGA-BH-A0E6', 'TCGA-BH-A0E7', 'TCGA-BH-A0E9',\n",
       "       'TCGA-BH-A0EA', 'TCGA-BH-A0EB', 'TCGA-BH-A0EE', 'TCGA-BH-A0EI',\n",
       "       'TCGA-BH-A0GY', 'TCGA-BH-A0GZ', 'TCGA-BH-A0H0', 'TCGA-BH-A0H3',\n",
       "       'TCGA-BH-A0H5', 'TCGA-BH-A0H6', 'TCGA-BH-A0H7', 'TCGA-BH-A0H9',\n",
       "       'TCGA-BH-A0HA', 'TCGA-BH-A0HB', 'TCGA-BH-A0HF', 'TCGA-BH-A0HI',\n",
       "       'TCGA-BH-A0HK', 'TCGA-BH-A0HL', 'TCGA-BH-A0HN', 'TCGA-BH-A0HO',\n",
       "       'TCGA-BH-A0HP', 'TCGA-BH-A0HQ', 'TCGA-BH-A0HU', 'TCGA-BH-A0HW',\n",
       "       'TCGA-BH-A0HX', 'TCGA-BH-A0HY', 'TCGA-BH-A0RX', 'TCGA-BH-A0W3',\n",
       "       'TCGA-BH-A0W4', 'TCGA-BH-A0W5', 'TCGA-BH-A0W7', 'TCGA-BH-A0WA',\n",
       "       'TCGA-BH-A18F', 'TCGA-BH-A18G', 'TCGA-BH-A18H', 'TCGA-BH-A18I',\n",
       "       'TCGA-BH-A18J', 'TCGA-BH-A18K', 'TCGA-BH-A18L', 'TCGA-BH-A18M',\n",
       "       'TCGA-BH-A18N', 'TCGA-BH-A18P', 'TCGA-BH-A18Q', 'TCGA-BH-A18R',\n",
       "       'TCGA-BH-A18S', 'TCGA-BH-A18T', 'TCGA-BH-A18U', 'TCGA-BH-A18V',\n",
       "       'TCGA-BH-A1EN', 'TCGA-BH-A1EO', 'TCGA-BH-A1ES', 'TCGA-BH-A1ET',\n",
       "       'TCGA-BH-A1EU', 'TCGA-BH-A1EV', 'TCGA-BH-A1EX', 'TCGA-BH-A1EY',\n",
       "       'TCGA-BH-A1F0', 'TCGA-BH-A1F2', 'TCGA-BH-A1F5', 'TCGA-BH-A1F6',\n",
       "       'TCGA-BH-A1F8', 'TCGA-BH-A1FB', 'TCGA-BH-A1FC', 'TCGA-BH-A1FD',\n",
       "       'TCGA-BH-A1FG', 'TCGA-BH-A201', 'TCGA-BH-A202', 'TCGA-BH-A28O',\n",
       "       'TCGA-BH-A28Q', 'TCGA-BH-A2L8', 'TCGA-BH-A42T', 'TCGA-BH-A42U',\n",
       "       'TCGA-BH-A42V', 'TCGA-BH-A5J0', 'TCGA-BH-A6R8', 'TCGA-BH-A6R9',\n",
       "       'TCGA-BH-A8FY', 'TCGA-BH-A8FZ', 'TCGA-BH-A8G0', 'TCGA-BH-AB28',\n",
       "       'TCGA-C8-A12M', 'TCGA-C8-A12N', 'TCGA-C8-A12O', 'TCGA-C8-A12P',\n",
       "       'TCGA-C8-A12Q', 'TCGA-C8-A12T', 'TCGA-C8-A12U', 'TCGA-C8-A12V',\n",
       "       'TCGA-C8-A12W', 'TCGA-C8-A12X', 'TCGA-C8-A12Z', 'TCGA-C8-A130',\n",
       "       'TCGA-C8-A131', 'TCGA-C8-A134', 'TCGA-C8-A135', 'TCGA-C8-A137',\n",
       "       'TCGA-C8-A138', 'TCGA-C8-A1HE', 'TCGA-C8-A1HF', 'TCGA-C8-A1HG',\n",
       "       'TCGA-C8-A1HI', 'TCGA-C8-A1HJ', 'TCGA-C8-A1HK', 'TCGA-C8-A1HL',\n",
       "       'TCGA-C8-A1HM', 'TCGA-C8-A1HN', 'TCGA-C8-A1HO', 'TCGA-C8-A26V',\n",
       "       'TCGA-C8-A26W', 'TCGA-C8-A26Z', 'TCGA-C8-A273', 'TCGA-C8-A274',\n",
       "       'TCGA-C8-A278', 'TCGA-C8-A27A', 'TCGA-C8-A27B', 'TCGA-C8-A3M8',\n",
       "       'TCGA-C8-A8HP', 'TCGA-C8-A8HQ', 'TCGA-D8-A13Y', 'TCGA-D8-A140',\n",
       "       'TCGA-D8-A141', 'TCGA-D8-A142', 'TCGA-D8-A143', 'TCGA-D8-A145',\n",
       "       'TCGA-D8-A146', 'TCGA-D8-A147', 'TCGA-D8-A1J8', 'TCGA-D8-A1J9',\n",
       "       'TCGA-D8-A1JA', 'TCGA-D8-A1JB', 'TCGA-D8-A1JC', 'TCGA-D8-A1JD',\n",
       "       'TCGA-D8-A1JE', 'TCGA-D8-A1JG', 'TCGA-D8-A1JH', 'TCGA-D8-A1JI',\n",
       "       'TCGA-D8-A1JJ', 'TCGA-D8-A1JL', 'TCGA-D8-A1JM', 'TCGA-D8-A1JN',\n",
       "       'TCGA-D8-A1JP', 'TCGA-D8-A1JS', 'TCGA-D8-A1JT', 'TCGA-D8-A1JU',\n",
       "       'TCGA-D8-A1X5', 'TCGA-D8-A1X6', 'TCGA-D8-A1X7', 'TCGA-D8-A1X8',\n",
       "       'TCGA-D8-A1X9', 'TCGA-D8-A1XA', 'TCGA-D8-A1XB', 'TCGA-D8-A1XC',\n",
       "       'TCGA-D8-A1XD', 'TCGA-D8-A1XF', 'TCGA-D8-A1XG', 'TCGA-D8-A1XJ',\n",
       "       'TCGA-D8-A1XK', 'TCGA-D8-A1XL', 'TCGA-D8-A1XM', 'TCGA-D8-A1XO',\n",
       "       'TCGA-D8-A1XQ', 'TCGA-D8-A1XR', 'TCGA-D8-A1XS', 'TCGA-D8-A1XT',\n",
       "       'TCGA-D8-A1XU', 'TCGA-D8-A1XV', 'TCGA-D8-A1XW', 'TCGA-D8-A1XY',\n",
       "       'TCGA-D8-A1XZ', 'TCGA-D8-A1Y0', 'TCGA-D8-A1Y1', 'TCGA-D8-A1Y2',\n",
       "       'TCGA-D8-A1Y3', 'TCGA-D8-A27E', 'TCGA-D8-A27F', 'TCGA-D8-A27G',\n",
       "       'TCGA-D8-A27H', 'TCGA-D8-A27I', 'TCGA-D8-A27K', 'TCGA-D8-A27L',\n",
       "       'TCGA-D8-A27M', 'TCGA-D8-A27N', 'TCGA-D8-A27P', 'TCGA-D8-A27R',\n",
       "       'TCGA-D8-A27T', 'TCGA-D8-A27V', 'TCGA-D8-A27W', 'TCGA-D8-A3Z5',\n",
       "       'TCGA-D8-A3Z6', 'TCGA-D8-A4Z1', 'TCGA-D8-A73U', 'TCGA-D8-A73W',\n",
       "       'TCGA-D8-A73X', 'TCGA-E2-A105', 'TCGA-E2-A106', 'TCGA-E2-A107',\n",
       "       'TCGA-E2-A108', 'TCGA-E2-A109', 'TCGA-E2-A10A', 'TCGA-E2-A10B',\n",
       "       'TCGA-E2-A10C', 'TCGA-E2-A10E', 'TCGA-E2-A10F', 'TCGA-E2-A14N',\n",
       "       'TCGA-E2-A14O', 'TCGA-E2-A14P', 'TCGA-E2-A14Q', 'TCGA-E2-A14R',\n",
       "       'TCGA-E2-A14S', 'TCGA-E2-A14T', 'TCGA-E2-A14U', 'TCGA-E2-A14V',\n",
       "       'TCGA-E2-A14W', 'TCGA-E2-A14X', 'TCGA-E2-A14Z', 'TCGA-E2-A150',\n",
       "       'TCGA-E2-A152', 'TCGA-E2-A153', 'TCGA-E2-A154', 'TCGA-E2-A155',\n",
       "       'TCGA-E2-A156', 'TCGA-E2-A158', 'TCGA-E2-A159', 'TCGA-E2-A15A',\n",
       "       'TCGA-E2-A15C', 'TCGA-E2-A15D', 'TCGA-E2-A15E', 'TCGA-E2-A15F',\n",
       "       'TCGA-E2-A15G', 'TCGA-E2-A15H', 'TCGA-E2-A15I', 'TCGA-E2-A15J',\n",
       "       'TCGA-E2-A15K', 'TCGA-E2-A15L', 'TCGA-E2-A15M', 'TCGA-E2-A15O',\n",
       "       'TCGA-E2-A15P', 'TCGA-E2-A15R', 'TCGA-E2-A15S', 'TCGA-E2-A15T',\n",
       "       'TCGA-E2-A1AZ', 'TCGA-E2-A1B0', 'TCGA-E2-A1B1', 'TCGA-E2-A1B4',\n",
       "       'TCGA-E2-A1B5', 'TCGA-E2-A1B6', 'TCGA-E2-A1BC', 'TCGA-E2-A1BD',\n",
       "       'TCGA-E2-A1IE', 'TCGA-E2-A1IF', 'TCGA-E2-A1IG', 'TCGA-E2-A1IH',\n",
       "       'TCGA-E2-A1IJ', 'TCGA-E2-A1IK', 'TCGA-E2-A1IL', 'TCGA-E2-A1IN',\n",
       "       'TCGA-E2-A1IO', 'TCGA-E2-A1IU', 'TCGA-E2-A1L6', 'TCGA-E2-A1L8',\n",
       "       'TCGA-E2-A1L9', 'TCGA-E2-A1LA', 'TCGA-E2-A1LB', 'TCGA-E2-A1LE',\n",
       "       'TCGA-E2-A1LG', 'TCGA-E2-A1LH', 'TCGA-E2-A1LI', 'TCGA-E2-A1LK',\n",
       "       'TCGA-E2-A1LL', 'TCGA-E2-A1LS', 'TCGA-E2-A2P5', 'TCGA-E2-A2P6',\n",
       "       'TCGA-E2-A3DX', 'TCGA-E2-A56Z', 'TCGA-E2-A570', 'TCGA-E2-A572',\n",
       "       'TCGA-E2-A573', 'TCGA-E2-A574', 'TCGA-E2-A576', 'TCGA-E2-A9RU',\n",
       "       'TCGA-E9-A1N4', 'TCGA-E9-A1N5', 'TCGA-E9-A1N6', 'TCGA-E9-A1NA',\n",
       "       'TCGA-E9-A1NC', 'TCGA-E9-A1NE', 'TCGA-E9-A1NF', 'TCGA-E9-A1NG',\n",
       "       'TCGA-E9-A1NH', 'TCGA-E9-A1NI', 'TCGA-E9-A1R2', 'TCGA-E9-A227',\n",
       "       'TCGA-E9-A22A', 'TCGA-E9-A22B', 'TCGA-E9-A22D', 'TCGA-E9-A22E',\n",
       "       'TCGA-E9-A22H', 'TCGA-E9-A295', 'TCGA-E9-A3Q9', 'TCGA-E9-A3X8',\n",
       "       'TCGA-E9-A54X', 'TCGA-E9-A54Y', 'TCGA-E9-A5FK', 'TCGA-E9-A5FL',\n",
       "       'TCGA-E9-A6HE', 'TCGA-EW-A1IW', 'TCGA-EW-A1IX', 'TCGA-EW-A1IY',\n",
       "       'TCGA-EW-A1IZ', 'TCGA-EW-A1J1', 'TCGA-EW-A1J2', 'TCGA-EW-A1J3',\n",
       "       'TCGA-EW-A1J5', 'TCGA-EW-A1J6', 'TCGA-EW-A1OW', 'TCGA-EW-A1OX',\n",
       "       'TCGA-EW-A1OY', 'TCGA-EW-A1OZ', 'TCGA-EW-A1P0', 'TCGA-EW-A1P1',\n",
       "       'TCGA-EW-A1P3', 'TCGA-EW-A1P4', 'TCGA-EW-A1P5', 'TCGA-EW-A1P6',\n",
       "       'TCGA-EW-A1P7', 'TCGA-EW-A1P8', 'TCGA-EW-A1PA', 'TCGA-EW-A1PB',\n",
       "       'TCGA-EW-A1PC', 'TCGA-EW-A1PD', 'TCGA-EW-A1PE', 'TCGA-EW-A1PF',\n",
       "       'TCGA-EW-A1PG', 'TCGA-EW-A1PH', 'TCGA-EW-A2FS', 'TCGA-EW-A2FV',\n",
       "       'TCGA-EW-A2FW', 'TCGA-EW-A3E8', 'TCGA-EW-A3U0', 'TCGA-EW-A423',\n",
       "       'TCGA-EW-A424', 'TCGA-EW-A6S9', 'TCGA-EW-A6SA', 'TCGA-EW-A6SB',\n",
       "       'TCGA-EW-A6SC', 'TCGA-GI-A2C8', 'TCGA-GI-A2C9', 'TCGA-GM-A2D9',\n",
       "       'TCGA-GM-A2DA', 'TCGA-GM-A2DC', 'TCGA-GM-A2DD', 'TCGA-GM-A2DF',\n",
       "       'TCGA-GM-A2DK', 'TCGA-GM-A2DL', 'TCGA-GM-A2DM', 'TCGA-GM-A2DN',\n",
       "       'TCGA-GM-A2DO', 'TCGA-GM-A3NW', 'TCGA-GM-A3NY', 'TCGA-GM-A3XG',\n",
       "       'TCGA-GM-A3XL', 'TCGA-GM-A3XN', 'TCGA-GM-A4E0', 'TCGA-GM-A5PV',\n",
       "       'TCGA-GM-A5PX', 'TCGA-HN-A2NL', 'TCGA-HN-A2OB', 'TCGA-JL-A3YW',\n",
       "       'TCGA-JL-A3YX', 'TCGA-LD-A66U', 'TCGA-LD-A74U', 'TCGA-LD-A7W5',\n",
       "       'TCGA-LD-A7W6', 'TCGA-LD-A9QF', 'TCGA-LL-A440', 'TCGA-LL-A441',\n",
       "       'TCGA-LL-A442', 'TCGA-LL-A50Y', 'TCGA-LL-A5YL', 'TCGA-LL-A5YM',\n",
       "       'TCGA-LL-A5YN', 'TCGA-LL-A6FP', 'TCGA-LL-A6FQ', 'TCGA-LL-A73Y',\n",
       "       'TCGA-LL-A73Z', 'TCGA-LL-A7SZ', 'TCGA-LL-A7T0', 'TCGA-LL-A9Q3',\n",
       "       'TCGA-LQ-A4E4', 'TCGA-MS-A51U', 'TCGA-OK-A5Q2', 'TCGA-OL-A5D6',\n",
       "       'TCGA-OL-A5D7', 'TCGA-OL-A5D8', 'TCGA-OL-A5DA', 'TCGA-OL-A5RU',\n",
       "       'TCGA-OL-A5RV', 'TCGA-OL-A5RW', 'TCGA-OL-A5RX', 'TCGA-OL-A5RY',\n",
       "       'TCGA-OL-A5RZ', 'TCGA-OL-A66H', 'TCGA-OL-A66I', 'TCGA-OL-A66J',\n",
       "       'TCGA-OL-A66K', 'TCGA-OL-A66L', 'TCGA-OL-A66N', 'TCGA-OL-A66O',\n",
       "       'TCGA-OL-A6VO', 'TCGA-OL-A6VQ', 'TCGA-OL-A6VR', 'TCGA-OL-A97C',\n",
       "       'TCGA-PE-A5DC', 'TCGA-PE-A5DD', 'TCGA-PE-A5DE', 'TCGA-S3-A6ZF',\n",
       "       'TCGA-S3-A6ZG', 'TCGA-S3-A6ZH', 'TCGA-S3-AA0Z', 'TCGA-S3-AA10',\n",
       "       'TCGA-S3-AA11', 'TCGA-S3-AA12', 'TCGA-S3-AA14', 'TCGA-S3-AA15',\n",
       "       'TCGA-S3-AA17', 'TCGA-UL-AAZ6', 'TCGA-UU-A93S', 'TCGA-V7-A7HQ',\n",
       "       'TCGA-W8-A86G', 'TCGA-WT-AB44', 'TCGA-XX-A899', 'TCGA-XX-A89A',\n",
       "       'TCGA-Z7-A8R5', 'TCGA-Z7-A8R6'], dtype=object)"
      ]
     },
     "execution_count": 20,
     "metadata": {},
     "output_type": "execute_result"
    }
   ],
   "source": [
    "labels.index.values"
   ]
  },
  {
   "cell_type": "code",
   "execution_count": 44,
   "metadata": {},
   "outputs": [
    {
     "name": "stdout",
     "output_type": "stream",
     "text": [
      "921\n"
     ]
    }
   ],
   "source": [
    "liste_1 = [el for el in temp_concat.columns if el in labels.index.values]\n",
    "print(len(liste_1))\n",
    "\n",
    "liste_2 = [el for el in rnaseq_genes.columns if el in labels.index.values]\n",
    "print(len(liste_2))\n",
    "\n",
    "liste_3 = [el for el in rnaseq_isoforms.columns if el in labels.index.values]\n",
    "print(len(liste_3))\n",
    "\n",
    "liste_4 = [el for el in mirnas.columns if el in labels.index.values]\n",
    "print(len(liste_4))\n",
    "\n",
    "liste_5 = [el for el in snps.columns if el in labels.index.values]\n",
    "print(len(liste_5))"
   ]
  },
  {
   "cell_type": "code",
   "execution_count": 53,
   "metadata": {},
   "outputs": [
    {
     "name": "stdout",
     "output_type": "stream",
     "text": [
      "(922,)\n"
     ]
    },
    {
     "data": {
      "text/plain": [
       "1840"
      ]
     },
     "execution_count": 53,
     "metadata": {},
     "output_type": "execute_result"
    }
   ],
   "source": [
    "liste_cpg_rna = []\n",
    "liste_cpg_rna.extend(liste_1)\n",
    "liste_cpg_rna.extend(liste_2)\n",
    "print(np.unique(np.asarray(liste_cpg_rna)).shape)\n",
    "921 + 919"
   ]
  },
  {
   "cell_type": "code",
   "execution_count": 56,
   "metadata": {},
   "outputs": [
    {
     "name": "stdout",
     "output_type": "stream",
     "text": [
      "918\n"
     ]
    }
   ],
   "source": [
    "liste_cpg_rna = [el for el in liste_2 if el in liste_1]\n",
    "print(len(liste_cpg_rna))"
   ]
  },
  {
   "cell_type": "code",
   "execution_count": 57,
   "metadata": {},
   "outputs": [
    {
     "name": "stdout",
     "output_type": "stream",
     "text": [
      "903\n"
     ]
    }
   ],
   "source": [
    "liste_mirna_rna = [el for el in liste_4 if el in liste_2]\n",
    "print(len(liste_mirna_rna))"
   ]
  },
  {
   "cell_type": "code",
   "execution_count": 58,
   "metadata": {},
   "outputs": [
    {
     "name": "stdout",
     "output_type": "stream",
     "text": [
      "902\n"
     ]
    }
   ],
   "source": [
    "liste_mirna_rna_cpg_rna = [el for el in liste_mirna_rna if el in liste_cpg_rna]\n",
    "print(len(liste_mirna_rna_cpg_rna))"
   ]
  },
  {
   "cell_type": "code",
   "execution_count": 67,
   "metadata": {},
   "outputs": [
    {
     "name": "stdout",
     "output_type": "stream",
     "text": [
      "902\n"
     ]
    }
   ],
   "source": [
    "patients_informations_available_for_all_view = list(set(liste_1).intersection(liste_2, liste_4))\n",
    "print(len(new_list))"
   ]
  },
  {
   "cell_type": "code",
   "execution_count": 69,
   "metadata": {},
   "outputs": [
    {
     "data": {
      "text/plain": [
       "(902, 19984)"
      ]
     },
     "execution_count": 69,
     "metadata": {},
     "output_type": "execute_result"
    }
   ],
   "source": [
    "temp_concat.T.loc[patients_informations_available_for_all_view].shape"
   ]
  },
  {
   "cell_type": "code",
   "execution_count": 72,
   "metadata": {},
   "outputs": [
    {
     "data": {
      "text/html": [
       "<div>\n",
       "<style scoped>\n",
       "    .dataframe tbody tr th:only-of-type {\n",
       "        vertical-align: middle;\n",
       "    }\n",
       "\n",
       "    .dataframe tbody tr th {\n",
       "        vertical-align: top;\n",
       "    }\n",
       "\n",
       "    .dataframe thead th {\n",
       "        text-align: right;\n",
       "    }\n",
       "</style>\n",
       "<table border=\"1\" class=\"dataframe\">\n",
       "  <thead>\n",
       "    <tr style=\"text-align: right;\">\n",
       "      <th></th>\n",
       "      <th>Unnamed: 0</th>\n",
       "      <th>phenotype</th>\n",
       "      <th>phenotype_TN</th>\n",
       "      <th>phenotype_DIABLO</th>\n",
       "      <th>phenotype_DIABLO_TN_AND_BASAL</th>\n",
       "      <th>er_status_ihc_Percent_Positive</th>\n",
       "      <th>pr_status_ihc_percent_Positive</th>\n",
       "      <th>her2_ihc_percent_Positive</th>\n",
       "    </tr>\n",
       "    <tr>\n",
       "      <th>bcr_patient_barcode</th>\n",
       "      <th></th>\n",
       "      <th></th>\n",
       "      <th></th>\n",
       "      <th></th>\n",
       "      <th></th>\n",
       "      <th></th>\n",
       "      <th></th>\n",
       "      <th></th>\n",
       "    </tr>\n",
       "  </thead>\n",
       "  <tbody>\n",
       "    <tr>\n",
       "      <th>TCGA-3C-AAAU</th>\n",
       "      <td>0</td>\n",
       "      <td>1</td>\n",
       "      <td>-1</td>\n",
       "      <td>1000.0</td>\n",
       "      <td>1000</td>\n",
       "      <td>3</td>\n",
       "      <td>3</td>\n",
       "      <td>-1</td>\n",
       "    </tr>\n",
       "    <tr>\n",
       "      <th>TCGA-3C-AALI</th>\n",
       "      <td>1</td>\n",
       "      <td>2</td>\n",
       "      <td>-1</td>\n",
       "      <td>1000.0</td>\n",
       "      <td>1000</td>\n",
       "      <td>1</td>\n",
       "      <td>1</td>\n",
       "      <td>-1</td>\n",
       "    </tr>\n",
       "    <tr>\n",
       "      <th>TCGA-3C-AALJ</th>\n",
       "      <td>2</td>\n",
       "      <td>1</td>\n",
       "      <td>-1</td>\n",
       "      <td>1000.0</td>\n",
       "      <td>1000</td>\n",
       "      <td>4</td>\n",
       "      <td>2</td>\n",
       "      <td>-1</td>\n",
       "    </tr>\n",
       "    <tr>\n",
       "      <th>TCGA-3C-AALK</th>\n",
       "      <td>3</td>\n",
       "      <td>2</td>\n",
       "      <td>-1</td>\n",
       "      <td>1000.0</td>\n",
       "      <td>1000</td>\n",
       "      <td>4</td>\n",
       "      <td>4</td>\n",
       "      <td>-1</td>\n",
       "    </tr>\n",
       "    <tr>\n",
       "      <th>TCGA-4H-AAAK</th>\n",
       "      <td>4</td>\n",
       "      <td>1</td>\n",
       "      <td>-1</td>\n",
       "      <td>1000.0</td>\n",
       "      <td>1000</td>\n",
       "      <td>3</td>\n",
       "      <td>4</td>\n",
       "      <td>1</td>\n",
       "    </tr>\n",
       "    <tr>\n",
       "      <th>...</th>\n",
       "      <td>...</td>\n",
       "      <td>...</td>\n",
       "      <td>...</td>\n",
       "      <td>...</td>\n",
       "      <td>...</td>\n",
       "      <td>...</td>\n",
       "      <td>...</td>\n",
       "      <td>...</td>\n",
       "    </tr>\n",
       "    <tr>\n",
       "      <th>TCGA-WT-AB44</th>\n",
       "      <td>1093</td>\n",
       "      <td>1</td>\n",
       "      <td>-1</td>\n",
       "      <td>1000.0</td>\n",
       "      <td>1000</td>\n",
       "      <td>4</td>\n",
       "      <td>4</td>\n",
       "      <td>-1</td>\n",
       "    </tr>\n",
       "    <tr>\n",
       "      <th>TCGA-XX-A899</th>\n",
       "      <td>1094</td>\n",
       "      <td>1</td>\n",
       "      <td>-1</td>\n",
       "      <td>-1.0</td>\n",
       "      <td>1</td>\n",
       "      <td>4</td>\n",
       "      <td>4</td>\n",
       "      <td>-1</td>\n",
       "    </tr>\n",
       "    <tr>\n",
       "      <th>TCGA-XX-A89A</th>\n",
       "      <td>1095</td>\n",
       "      <td>1</td>\n",
       "      <td>-1</td>\n",
       "      <td>-1.0</td>\n",
       "      <td>1</td>\n",
       "      <td>4</td>\n",
       "      <td>4</td>\n",
       "      <td>-1</td>\n",
       "    </tr>\n",
       "    <tr>\n",
       "      <th>TCGA-Z7-A8R5</th>\n",
       "      <td>1096</td>\n",
       "      <td>1</td>\n",
       "      <td>-1</td>\n",
       "      <td>1000.0</td>\n",
       "      <td>1000</td>\n",
       "      <td>-1</td>\n",
       "      <td>-1</td>\n",
       "      <td>-1</td>\n",
       "    </tr>\n",
       "    <tr>\n",
       "      <th>TCGA-Z7-A8R6</th>\n",
       "      <td>1097</td>\n",
       "      <td>1</td>\n",
       "      <td>-1</td>\n",
       "      <td>1000.0</td>\n",
       "      <td>1000</td>\n",
       "      <td>-1</td>\n",
       "      <td>-1</td>\n",
       "      <td>-1</td>\n",
       "    </tr>\n",
       "  </tbody>\n",
       "</table>\n",
       "<p>902 rows × 8 columns</p>\n",
       "</div>"
      ],
      "text/plain": [
       "                     Unnamed: 0  phenotype  phenotype_TN  phenotype_DIABLO  \\\n",
       "bcr_patient_barcode                                                          \n",
       "TCGA-3C-AAAU                  0          1            -1            1000.0   \n",
       "TCGA-3C-AALI                  1          2            -1            1000.0   \n",
       "TCGA-3C-AALJ                  2          1            -1            1000.0   \n",
       "TCGA-3C-AALK                  3          2            -1            1000.0   \n",
       "TCGA-4H-AAAK                  4          1            -1            1000.0   \n",
       "...                         ...        ...           ...               ...   \n",
       "TCGA-WT-AB44               1093          1            -1            1000.0   \n",
       "TCGA-XX-A899               1094          1            -1              -1.0   \n",
       "TCGA-XX-A89A               1095          1            -1              -1.0   \n",
       "TCGA-Z7-A8R5               1096          1            -1            1000.0   \n",
       "TCGA-Z7-A8R6               1097          1            -1            1000.0   \n",
       "\n",
       "                    phenotype_DIABLO_TN_AND_BASAL  \\\n",
       "bcr_patient_barcode                                 \n",
       "TCGA-3C-AAAU                                 1000   \n",
       "TCGA-3C-AALI                                 1000   \n",
       "TCGA-3C-AALJ                                 1000   \n",
       "TCGA-3C-AALK                                 1000   \n",
       "TCGA-4H-AAAK                                 1000   \n",
       "...                                           ...   \n",
       "TCGA-WT-AB44                                 1000   \n",
       "TCGA-XX-A899                                    1   \n",
       "TCGA-XX-A89A                                    1   \n",
       "TCGA-Z7-A8R5                                 1000   \n",
       "TCGA-Z7-A8R6                                 1000   \n",
       "\n",
       "                     er_status_ihc_Percent_Positive  \\\n",
       "bcr_patient_barcode                                   \n",
       "TCGA-3C-AAAU                                      3   \n",
       "TCGA-3C-AALI                                      1   \n",
       "TCGA-3C-AALJ                                      4   \n",
       "TCGA-3C-AALK                                      4   \n",
       "TCGA-4H-AAAK                                      3   \n",
       "...                                             ...   \n",
       "TCGA-WT-AB44                                      4   \n",
       "TCGA-XX-A899                                      4   \n",
       "TCGA-XX-A89A                                      4   \n",
       "TCGA-Z7-A8R5                                     -1   \n",
       "TCGA-Z7-A8R6                                     -1   \n",
       "\n",
       "                     pr_status_ihc_percent_Positive  her2_ihc_percent_Positive  \n",
       "bcr_patient_barcode                                                             \n",
       "TCGA-3C-AAAU                                      3                         -1  \n",
       "TCGA-3C-AALI                                      1                         -1  \n",
       "TCGA-3C-AALJ                                      2                         -1  \n",
       "TCGA-3C-AALK                                      4                         -1  \n",
       "TCGA-4H-AAAK                                      4                          1  \n",
       "...                                             ...                        ...  \n",
       "TCGA-WT-AB44                                      4                         -1  \n",
       "TCGA-XX-A899                                      4                         -1  \n",
       "TCGA-XX-A89A                                      4                         -1  \n",
       "TCGA-Z7-A8R5                                     -1                         -1  \n",
       "TCGA-Z7-A8R6                                     -1                         -1  \n",
       "\n",
       "[902 rows x 8 columns]"
      ]
     },
     "execution_count": 72,
     "metadata": {},
     "output_type": "execute_result"
    }
   ],
   "source": [
    "labels.loc[labels.index.isin(patients_informations_available_for_all_view)]"
   ]
  },
  {
   "cell_type": "code",
   "execution_count": 73,
   "metadata": {},
   "outputs": [
    {
     "name": "stdout",
     "output_type": "stream",
     "text": [
      "True\n",
      "False\n"
     ]
    }
   ],
   "source": [
    "for bool in [True, False]:\n",
    "    print(bool)"
   ]
  },
  {
   "cell_type": "code",
   "execution_count": 74,
   "metadata": {},
   "outputs": [],
   "source": [
    "labels = labels.loc[labels.index.isin(patients_informations_available_for_all_view)]"
   ]
  },
  {
   "cell_type": "code",
   "execution_count": 81,
   "metadata": {},
   "outputs": [
    {
     "data": {
      "text/plain": [
       "(902,)"
      ]
     },
     "execution_count": 81,
     "metadata": {},
     "output_type": "execute_result"
    }
   ],
   "source": [
    "labels.index.values.shape\n"
   ]
  },
  {
   "cell_type": "code",
   "execution_count": 78,
   "metadata": {},
   "outputs": [],
   "source": [
    "rnaseq_isoforms = rnaseq_isoforms.T.loc[patients_informations_available_for_all_view]\n",
    "rnaseq_isoforms = rnaseq_isoforms.loc[:, rnaseq_isoforms.count() > 0]"
   ]
  },
  {
   "cell_type": "code",
   "execution_count": 80,
   "metadata": {},
   "outputs": [
    {
     "data": {
      "text/plain": [
       "(902,)"
      ]
     },
     "execution_count": 80,
     "metadata": {},
     "output_type": "execute_result"
    }
   ],
   "source": [
    "rnaseq_isoforms.index.shape"
   ]
  },
  {
   "cell_type": "code",
   "execution_count": 82,
   "metadata": {},
   "outputs": [
    {
     "ename": "AssertionError",
     "evalue": "",
     "output_type": "error",
     "traceback": [
      "\u001b[0;31m---------------------------------------------------------------------------\u001b[0m",
      "\u001b[0;31mAssertionError\u001b[0m                            Traceback (most recent call last)",
      "\u001b[0;32m<ipython-input-82-035baec7cb7b>\u001b[0m in \u001b[0;36m<module>\u001b[0;34m\u001b[0m\n\u001b[0;32m----> 1\u001b[0;31m \u001b[0;32massert\u001b[0m \u001b[0mnp\u001b[0m\u001b[0;34m.\u001b[0m\u001b[0mall\u001b[0m\u001b[0;34m(\u001b[0m\u001b[0mlabels\u001b[0m\u001b[0;34m.\u001b[0m\u001b[0mindex\u001b[0m\u001b[0;34m.\u001b[0m\u001b[0mvalues\u001b[0m \u001b[0;34m==\u001b[0m \u001b[0mrnaseq_isoforms\u001b[0m\u001b[0;34m.\u001b[0m\u001b[0mindex\u001b[0m\u001b[0;34m.\u001b[0m\u001b[0mvalues\u001b[0m\u001b[0;34m)\u001b[0m\u001b[0;34m\u001b[0m\u001b[0;34m\u001b[0m\u001b[0m\n\u001b[0m",
      "\u001b[0;31mAssertionError\u001b[0m: "
     ]
    }
   ],
   "source": [
    "assert np.all(labels.index.values == rnaseq_isoforms.index.values)"
   ]
  },
  {
   "cell_type": "code",
   "execution_count": null,
   "metadata": {},
   "outputs": [],
   "source": []
  }
 ],
 "metadata": {
  "kernelspec": {
   "display_name": "Python 3",
   "language": "python",
   "name": "python3"
  },
  "language_info": {
   "codemirror_mode": {
    "name": "ipython",
    "version": 3
   },
   "file_extension": ".py",
   "mimetype": "text/x-python",
   "name": "python",
   "nbconvert_exporter": "python",
   "pygments_lexer": "ipython3",
   "version": "3.6.9"
  }
 },
 "nbformat": 4,
 "nbformat_minor": 2
}
